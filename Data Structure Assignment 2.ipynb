{
 "cells": [
  {
   "cell_type": "markdown",
   "id": "343312da-c1a6-42aa-8380-1718f12a7c3b",
   "metadata": {},
   "source": [
    "1.We can add comments in code to provide explanations or make notes. Comments are ignored by the Python interpreter and are not executed as part of the program. There are two ways to write comments in Python: i. Single-line comments. ii. Multi-line comments."
   ]
  },
  {
   "cell_type": "code",
   "execution_count": 3,
   "id": "4653b59f-096a-4531-9c37-39b7d9068331",
   "metadata": {},
   "outputs": [
    {
     "name": "stdout",
     "output_type": "stream",
     "text": [
      "Hello, World!\n"
     ]
    }
   ],
   "source": [
    "# This is a single-line comment\n",
    "print(\"Hello, World!\")"
   ]
  },
  {
   "cell_type": "code",
   "execution_count": 31,
   "id": "ff27133a-cc40-4d93-9d8a-0879efd1a48d",
   "metadata": {},
   "outputs": [
    {
     "name": "stdout",
     "output_type": "stream",
     "text": [
      "30\n"
     ]
    }
   ],
   "source": [
    "\"\"\"\n",
    "This is a multi-line comment.\n",
    "\"\"\"\n",
    "x = 10\n",
    "y = 20\n",
    "sum = x + y\n",
    "print(sum)"
   ]
  },
  {
   "cell_type": "markdown",
   "id": "fdd9b73c-e6ca-4376-b8ca-7d05b7469102",
   "metadata": {},
   "source": [
    "2. Variables are used to store data values.a variable is a named location in memory that holds a value. Examples are given below:-"
   ]
  },
  {
   "cell_type": "code",
   "execution_count": 7,
   "id": "2d47d662-2575-4c80-9290-69bfdaeb454d",
   "metadata": {},
   "outputs": [],
   "source": [
    "x = 5                  # Assigns the value 5 to the variable x\n",
    "y = \"Pwskills\"         # Assigns the string \"Pwskills\" to the variable y"
   ]
  },
  {
   "cell_type": "code",
   "execution_count": 10,
   "id": "12c4df27-def7-4564-b602-335836dddf09",
   "metadata": {},
   "outputs": [
    {
     "name": "stdout",
     "output_type": "stream",
     "text": [
      "10\n",
      "Hello, World!\n"
     ]
    }
   ],
   "source": [
    "##Variable declaration:\n",
    "x = 10\n",
    "y = \"Hello, World!\"\n",
    "print(x)\n",
    "print(y)"
   ]
  },
  {
   "cell_type": "markdown",
   "id": "b683395d-96a3-4359-b5ae-7eff037751f2",
   "metadata": {},
   "source": [
    "3. int(), float(), str(), bool(): These are built-in functions that can be used to convert values to integer, float, string, and boolean data types, respectively. For example:"
   ]
  },
  {
   "cell_type": "code",
   "execution_count": 19,
   "id": "73013c26-0237-4db6-8c62-b3330f74de08",
   "metadata": {},
   "outputs": [
    {
     "name": "stdout",
     "output_type": "stream",
     "text": [
      "10\n"
     ]
    }
   ],
   "source": [
    "str_num = \"10\"\n",
    "int_num = int(str_num)   # Converts to integer\n",
    "print(int_num)"
   ]
  },
  {
   "cell_type": "code",
   "execution_count": 20,
   "id": "2dbfde0c-dbb0-4e35-92b5-5acf890e0ef4",
   "metadata": {},
   "outputs": [
    {
     "name": "stdout",
     "output_type": "stream",
     "text": [
      "3.14\n"
     ]
    }
   ],
   "source": [
    "str_float = \"3.14\"\n",
    "float_num = float(str_float)  # Converts to float\n",
    "print(float_num)"
   ]
  },
  {
   "cell_type": "code",
   "execution_count": 21,
   "id": "a092977a-0e4f-4e9a-8486-888566651181",
   "metadata": {},
   "outputs": [],
   "source": [
    "num = 3.14\n",
    "str_num = str(num)"
   ]
  },
  {
   "cell_type": "code",
   "execution_count": 23,
   "id": "c97768fb-ebf0-454b-b261-b7611dc27ec1",
   "metadata": {},
   "outputs": [
    {
     "name": "stdout",
     "output_type": "stream",
     "text": [
      "3.14\n"
     ]
    }
   ],
   "source": [
    "print(str_num)"
   ]
  },
  {
   "cell_type": "markdown",
   "id": "638b5e32-15aa-4120-a21f-73165bf85218",
   "metadata": {},
   "source": [
    "4. To write and execute a Python script from the command line,we can follow these steps:\n",
    "i. Open a text editor and create a new file.\n",
    "ii. Write your Python code in the text editor\n",
    "iii.Save the file and exit the text editor.\n",
    "iv. Open a command prompt or terminal window.\n",
    "v. Navigate to the directory where the Python script is saved. we can use the 'cd' command to change directories.\n",
    "vi. Once we are in the correct directory, we can execute the Python script using the python command followed by the name of the script file\n",
    "For example:- python script.py\n",
    "vii. Press Enter, and the Python script will be executed."
   ]
  },
  {
   "cell_type": "raw",
   "id": "ed4811c0-b329-4076-a2c1-e9d99bbe04bd",
   "metadata": {},
   "source": [
    "5. To obtain the sub-list [2, 3] from the given list my_list = [1, 2, 3, 4, 5]:-"
   ]
  },
  {
   "cell_type": "code",
   "execution_count": 2,
   "id": "5f8bd3f0-e00a-46ca-ab6e-99e78ed574f4",
   "metadata": {},
   "outputs": [
    {
     "name": "stdout",
     "output_type": "stream",
     "text": [
      "[2, 3]\n"
     ]
    }
   ],
   "source": [
    "my_list = [1, 2, 3, 4, 5]\n",
    "sub_list = my_list[1:3]\n",
    "print(sub_list)"
   ]
  },
  {
   "cell_type": "markdown",
   "id": "2aa4b3cd-e65e-4f8d-8936-be8915d0d397",
   "metadata": {},
   "source": [
    "6.A complex number is a number that comprises a real part and an imaginary part. It is represented in the form a + bi, where a is the real part, b is the imaginary part, and i is the imaginary unit.\n",
    "\n",
    "Examples:-"
   ]
  },
  {
   "cell_type": "code",
   "execution_count": 4,
   "id": "30b41c31-c637-4866-97a5-3023f663c31b",
   "metadata": {},
   "outputs": [],
   "source": [
    "A1 = 3 + 2j\n",
    "A2 = 1 - 4j\n",
    "A3 = -2j\n",
    "A4 = 4.5 + 0j"
   ]
  },
  {
   "cell_type": "code",
   "execution_count": 5,
   "id": "73bfeee2-eab3-4f58-ae14-8c6e2f2e6800",
   "metadata": {},
   "outputs": [
    {
     "name": "stdout",
     "output_type": "stream",
     "text": [
      "(3+2j)\n"
     ]
    }
   ],
   "source": [
    "print(A1)"
   ]
  },
  {
   "cell_type": "code",
   "execution_count": 6,
   "id": "4f438858-b9bb-4b24-80d8-f9b5aaddfd8f",
   "metadata": {},
   "outputs": [
    {
     "name": "stdout",
     "output_type": "stream",
     "text": [
      "(1-4j)\n"
     ]
    }
   ],
   "source": [
    "print(A2)"
   ]
  },
  {
   "cell_type": "code",
   "execution_count": 7,
   "id": "d8c07a1a-928b-4ad4-860a-4c018ef1482c",
   "metadata": {},
   "outputs": [
    {
     "name": "stdout",
     "output_type": "stream",
     "text": [
      "(-0-2j)\n"
     ]
    }
   ],
   "source": [
    "print(A3)"
   ]
  },
  {
   "cell_type": "code",
   "execution_count": 8,
   "id": "2eaf6e81-88a2-4c5d-a89a-bda224a62b2e",
   "metadata": {},
   "outputs": [
    {
     "name": "stdout",
     "output_type": "stream",
     "text": [
      "(4.5+0j)\n"
     ]
    }
   ],
   "source": [
    "print(A4)"
   ]
  },
  {
   "cell_type": "markdown",
   "id": "8f8fb03c-05b2-407a-bc3a-2c85302e9d16",
   "metadata": {},
   "source": [
    "7. Variable declaration Example:-"
   ]
  },
  {
   "cell_type": "code",
   "execution_count": 9,
   "id": "d9d56cec-5d9f-4ab0-9017-5676b0b44e57",
   "metadata": {},
   "outputs": [],
   "source": [
    "age = 25"
   ]
  },
  {
   "cell_type": "code",
   "execution_count": 10,
   "id": "41deba4c-0ae2-4dff-87a5-8f0012756590",
   "metadata": {},
   "outputs": [
    {
     "name": "stdout",
     "output_type": "stream",
     "text": [
      "25\n"
     ]
    }
   ],
   "source": [
    "print (age)"
   ]
  },
  {
   "cell_type": "markdown",
   "id": "06c4e818-414c-4a37-8037-4dcfcd16c3d5",
   "metadata": {},
   "source": [
    "After this declaration and assignment, we can use the variable age throughout the program to refer to the value 25."
   ]
  },
  {
   "cell_type": "markdown",
   "id": "1789e404-fc2e-4c52-9636-af5b1000552a",
   "metadata": {},
   "source": [
    "8. When we declare a variable named price and assign the value 9.99 to it, the variable price belongs to the data type called \"float\" in Python."
   ]
  },
  {
   "cell_type": "code",
   "execution_count": 11,
   "id": "aa73aea0-8aba-4b3a-9fac-f1da6fa738b4",
   "metadata": {},
   "outputs": [],
   "source": [
    "price=9.99"
   ]
  },
  {
   "cell_type": "code",
   "execution_count": 12,
   "id": "3dceb96b-a0fe-4db8-a607-269faed15a51",
   "metadata": {},
   "outputs": [
    {
     "data": {
      "text/plain": [
       "float"
      ]
     },
     "execution_count": 12,
     "metadata": {},
     "output_type": "execute_result"
    }
   ],
   "source": [
    "type(price)"
   ]
  },
  {
   "cell_type": "code",
   "execution_count": 13,
   "id": "bccb30ed-05fc-42d7-9051-10c8af3e9ca4",
   "metadata": {},
   "outputs": [
    {
     "name": "stdout",
     "output_type": "stream",
     "text": [
      "9.99\n"
     ]
    }
   ],
   "source": [
    "print(price)"
   ]
  },
  {
   "cell_type": "markdown",
   "id": "f9c9f213-0b9b-43bd-8224-f4535deac891",
   "metadata": {},
   "source": [
    "9. To create a variable named name and assign full name to it as a string, we can use the following code:"
   ]
  },
  {
   "cell_type": "code",
   "execution_count": 19,
   "id": "b5aa2bb8-2872-41d2-abc7-a17cbfa43cb0",
   "metadata": {},
   "outputs": [],
   "source": [
    "Name =\" your full name\""
   ]
  },
  {
   "cell_type": "code",
   "execution_count": 20,
   "id": "f3d4911c-61eb-4aef-9b06-79063fe2b93a",
   "metadata": {},
   "outputs": [
    {
     "data": {
      "text/plain": [
       "str"
      ]
     },
     "execution_count": 20,
     "metadata": {},
     "output_type": "execute_result"
    }
   ],
   "source": [
    "type(Name)"
   ]
  },
  {
   "cell_type": "code",
   "execution_count": 21,
   "id": "e7f5e12f-8dad-4bd8-a5d2-09c0f0724b2c",
   "metadata": {},
   "outputs": [
    {
     "name": "stdout",
     "output_type": "stream",
     "text": [
      " your full name\n"
     ]
    }
   ],
   "source": [
    "print(Name)"
   ]
  },
  {
   "cell_type": "code",
   "execution_count": 22,
   "id": "b592b146-bb26-42d5-b0e2-ccf931e0dab8",
   "metadata": {},
   "outputs": [],
   "source": [
    "Name= \"veena Kumari\""
   ]
  },
  {
   "cell_type": "code",
   "execution_count": 23,
   "id": "fb28379b-1eb3-44fd-a8e4-3fdc93cbdbe4",
   "metadata": {},
   "outputs": [
    {
     "name": "stdout",
     "output_type": "stream",
     "text": [
      "veena Kumari\n"
     ]
    }
   ],
   "source": [
    "print(Name)"
   ]
  },
  {
   "cell_type": "markdown",
   "id": "7b03cd53-de2f-4442-9dab-d99f789fd6ce",
   "metadata": {},
   "source": [
    "10. To extract the substring \"World\" from the given string \"Hello, World!\", we can use string slicing in Python. Here's an example:"
   ]
  },
  {
   "cell_type": "code",
   "execution_count": 24,
   "id": "a4da8a1e-36b4-4d7b-bb35-ff2c2da89968",
   "metadata": {},
   "outputs": [
    {
     "name": "stdout",
     "output_type": "stream",
     "text": [
      "World\n"
     ]
    }
   ],
   "source": [
    "s = \"Hello, World!\"\n",
    "substring = s[7:12]\n",
    "print(substring)"
   ]
  },
  {
   "cell_type": "markdown",
   "id": "9adcb5f8-c6ab-4c8c-be4a-7d7080ae1ae2",
   "metadata": {},
   "source": [
    "11. To create a variable named \"is_student\" and assign it a boolean value indicating whether you are currently a student or not."
   ]
  },
  {
   "cell_type": "code",
   "execution_count": 27,
   "id": "14e6feca-6d30-4389-9073-23a457a160ec",
   "metadata": {},
   "outputs": [],
   "source": [
    "is_student = True"
   ]
  },
  {
   "cell_type": "code",
   "execution_count": 28,
   "id": "917a655c-25fd-4b73-8ba7-30ae23f7c568",
   "metadata": {},
   "outputs": [],
   "source": [
    "is_student = False"
   ]
  },
  {
   "cell_type": "code",
   "execution_count": 30,
   "id": "2f43cea3-a0d9-465c-af11-3df68a299570",
   "metadata": {},
   "outputs": [
    {
     "name": "stdin",
     "output_type": "stream",
     "text": [
      "Enter a name Ram\n"
     ]
    },
    {
     "name": "stdout",
     "output_type": "stream",
     "text": [
      "Ram is a student.\n"
     ]
    }
   ],
   "source": [
    "## Example:-\n",
    "name = input(\"Enter a name\")\n",
    "if name.lower() == \"ram\":\n",
    "    print(\"Ram is a student.\")\n",
    "else:\n",
    "    print(\"The person is not Ram or is not a student.\")"
   ]
  },
  {
   "cell_type": "code",
   "execution_count": null,
   "id": "b445b04f-6b3f-43be-a632-9df49d6652cb",
   "metadata": {},
   "outputs": [],
   "source": []
  }
 ],
 "metadata": {
  "kernelspec": {
   "display_name": "Python 3 (ipykernel)",
   "language": "python",
   "name": "python3"
  },
  "language_info": {
   "codemirror_mode": {
    "name": "ipython",
    "version": 3
   },
   "file_extension": ".py",
   "mimetype": "text/x-python",
   "name": "python",
   "nbconvert_exporter": "python",
   "pygments_lexer": "ipython3",
   "version": "3.10.8"
  }
 },
 "nbformat": 4,
 "nbformat_minor": 5
}
